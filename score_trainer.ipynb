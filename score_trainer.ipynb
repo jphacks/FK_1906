{
 "cells": [
  {
   "cell_type": "code",
   "execution_count": null,
   "metadata": {},
   "outputs": [],
   "source": [
    "import os\n",
    "import numpy as np"
   ]
  },
  {
   "cell_type": "code",
   "execution_count": null,
   "metadata": {},
   "outputs": [],
   "source": [
    "param_labels = ['pich_mean',       'yaw_var',       'volume_mean',       'tone_var']\n",
    "score_labels = ['pich_mean_score', 'yaw_var_score', 'volume_mean_score', 'tone_var_score']"
   ]
  },
  {
   "cell_type": "code",
   "execution_count": null,
   "metadata": {
    "scrolled": true
   },
   "outputs": [],
   "source": [
    "result_files = [filename for filename in os.listdir('results') if not filename == '.gitkeep']\n",
    "scores_list = np.array([], dtype='int32')\n",
    "param_table = {label : np.array([], dtype=\"float32\") for label in param_labels}\n",
    "\n",
    "for file_name in result_files:\n",
    "    base_name, _, _ = file_name.split('.')\n",
    "    scores = base_name.split('_')\n",
    "    scores_list = np.append(scores_list, [[int(score) for score in scores]])\n",
    "\n",
    "    with open(os.path.join('./results', file_name)) as f:\n",
    "        for line in f.read().splitlines():\n",
    "            label, value = line.split(':')\n",
    "            param_table[label] = np.append(param_table[label], float(value))\n",
    "\n",
    "scores_list  = scores_list.reshape(-1, 4)\n",
    "scores_table = {label : scores for label, scores in zip(score_labels, scores_list.T)}"
   ]
  },
  {
   "cell_type": "code",
   "execution_count": null,
   "metadata": {},
   "outputs": [],
   "source": [
    "from matplotlib import pyplot as plt\n",
    "%matplotlib inline"
   ]
  },
  {
   "cell_type": "code",
   "execution_count": null,
   "metadata": {},
   "outputs": [],
   "source": [
    "# from sklearn.kernel_ridge import KernelRidge\n",
    "from sklearn.linear_model import Ridge"
   ]
  },
  {
   "cell_type": "code",
   "execution_count": null,
   "metadata": {},
   "outputs": [],
   "source": [
    "model_table = {label : None for label in score_labels}\n",
    "\n",
    "for (X_label, X), (y_label, y) in zip(param_table.items(), scores_table.items()):\n",
    "    X, y = X.reshape(-1, 1), y.reshape(-1, 1)\n",
    "    # train\n",
    "    model_table[y_label] = Ridge()\n",
    "    model_table[y_label].fit(X, y)\n",
    "    \n",
    "    # predict\n",
    "    p = model_table[y_label].predict(X)\n",
    "    print(\"Score: \", model_table[y_label].score(X, y))\n",
    "    \n",
    "    # plot\n",
    "    plt.figure()\n",
    "    plt.xlabel(X_label)\n",
    "    plt.ylabel(y_label)\n",
    "    plt.scatter(X, y)\n",
    "    plt.plot(X, p)\n",
    "    plt.show()"
   ]
  },
  {
   "cell_type": "code",
   "execution_count": null,
   "metadata": {},
   "outputs": [],
   "source": [
    "import pickle\n",
    "\n",
    "for label, model in model_table.items():\n",
    "    filename = label+\".sklean\"\n",
    "    pickle.dump(model, open(os.path.join('data', filename), 'wb'))"
   ]
  }
 ],
 "metadata": {
  "kernelspec": {
   "display_name": "Python 3",
   "language": "python",
   "name": "python3"
  },
  "language_info": {
   "codemirror_mode": {
    "name": "ipython",
    "version": 3
   },
   "file_extension": ".py",
   "mimetype": "text/x-python",
   "name": "python",
   "nbconvert_exporter": "python",
   "pygments_lexer": "ipython3",
   "version": "3.6.8"
  }
 },
 "nbformat": 4,
 "nbformat_minor": 2
}
